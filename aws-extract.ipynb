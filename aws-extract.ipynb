{
 "cells": [
  {
   "cell_type": "code",
   "execution_count": null,
   "id": "09ac9618",
   "metadata": {},
   "outputs": [],
   "source": [
    "import json\n",
    "import os\n",
    "import spotipy\n",
    "from spotipy.oauth2 import SpotifyClientCredentials\n",
    "import boto3\n",
    "from datetime import datetime\n",
    "\n",
    "def lambda_handler(event, context):\n",
    "    client_id = os.environ.get('client_id')\n",
    "    client_secret = os.environ.get('client_secret')\n",
    "\n",
    "    client_credentials_manager = SpotifyClientCredentials(client_id=client_id, client_secret=client_secret)\n",
    "    sp = spotipy.Spotify(client_credentials_manager = client_credentials_manager)\n",
    "    playlists = sp.user_playlists('spotify') \n",
    "\n",
    "    playlist_link = \"https://open.spotify.com/playlist/6VOedaf3eNWDOVpa9Qdlvg\"\n",
    "    playlist_URI = playlist_link.split(\"/\")[-1].split(\"?\")[0]\n",
    "\n",
    "    spotify_data = sp.playlist_tracks(playlist_URI) \n",
    "\n",
    "    filename= \"spotify_raw\" + str(datetime.now()) + \".json\"\n",
    "\n",
    "    cilent = boto3.client('s3')\n",
    "\n",
    "    cilent.put_object(\n",
    "        Bucket=\"spotify-project-etl-ambica\",\n",
    "        Key=\"raw_data/to_processed/\" +filename,\n",
    "        Body=json.dumps(spotify_data)\n",
    "        )\n",
    "\n"
   ]
  }
 ],
 "metadata": {
  "language_info": {
   "name": "python"
  }
 },
 "nbformat": 4,
 "nbformat_minor": 5
}
